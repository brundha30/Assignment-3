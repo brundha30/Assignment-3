{
 "cells": [
  {
   "cell_type": "markdown",
   "metadata": {},
   "source": [
    "# Calculate the Uppercase and Lowercase"
   ]
  },
  {
   "cell_type": "code",
   "execution_count": 14,
   "metadata": {},
   "outputs": [
    {
     "name": "stdout",
     "output_type": "stream",
     "text": [
      "No. of Uppercase characters: 3\n",
      "No. of Lowercase characters: 12\n",
      "\n"
     ]
    }
   ],
   "source": [
    "def upperlower(s):\n",
    "    str={\"lower\":0,\"upper\":0}\n",
    "    \n",
    "    for i in s:\n",
    "        if i.isupper():\n",
    "            str[\"upper\"]+=1\n",
    "        elif i.islower():\n",
    "            str[\"lower\"]+=1\n",
    "        else:\n",
    "            pass\n",
    "        \n",
    "    print(\"No. of Uppercase characters:\", str[\"upper\"])\n",
    "    print(\"No. of Lowercase characters:\", str[\"lower\"])\n",
    "    return \"\"\n",
    "\n",
    "s=\"The quick Brow Fox\"\n",
    "print(upperlower(s))"
   ]
  },
  {
   "cell_type": "code",
   "execution_count": null,
   "metadata": {},
   "outputs": [],
   "source": []
  }
 ],
 "metadata": {
  "kernelspec": {
   "display_name": "Python 3",
   "language": "python",
   "name": "python3"
  },
  "language_info": {
   "codemirror_mode": {
    "name": "ipython",
    "version": 3
   },
   "file_extension": ".py",
   "mimetype": "text/x-python",
   "name": "python",
   "nbconvert_exporter": "python",
   "pygments_lexer": "ipython3",
   "version": "3.7.6"
  }
 },
 "nbformat": 4,
 "nbformat_minor": 4
}
